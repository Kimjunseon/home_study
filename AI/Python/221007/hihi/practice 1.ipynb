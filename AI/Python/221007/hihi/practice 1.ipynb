{
 "cells": [
  {
   "cell_type": "markdown",
   "id": "849630b0",
   "metadata": {},
   "source": [
    "2021.07.12 파이썬 문제\n"
   ]
  },
  {
   "cell_type": "code",
   "execution_count": 59,
   "id": "f6ef7d34",
   "metadata": {},
   "outputs": [],
   "source": [
    "name= []\n",
    "release= []\n",
    "tic= []\n",
    "am= []\n",
    "\n",
    "def startmenu():\n",
    "    print(\"- 영화정보관리\\n- 시작메뉴\\n- 1. 영화 정보 입력\\n- 2. 종료\")\n",
    "    number = int(input(\"작업할 번호를 입력하십시오 : \"))\n",
    "    \n",
    "    if number == 1:\n",
    "        submenu()\n",
    "    elif number == 2:\n",
    "        print(\"종료\")\n",
    "    else:\n",
    "        print(\"1 또는 2의 입력만 가능합니다.\")\n",
    "        startmenu()\n",
    "\n",
    "def submenu():\n",
    "    print(\"- 1. 등록\\n- 2. 등록된 영화정보 출력\\n- 3. 뒤로가기\")\n",
    "    number = int(input(\"작업할 번호를 입력하십시오 : \"))\n",
    "    \n",
    "    if number == 1:\n",
    "        register()\n",
    "    elif number == 2:\n",
    "        output()\n",
    "    elif number == 3:\n",
    "        startmenu()\n",
    "    else:\n",
    "        print(\"1, 2, 3 중 하나의 입력만 가능합니다.\")\n",
    "        submenu()\n",
    "\n",
    "def register():\n",
    "    name = input(\"영화 제목:\")\n",
    "    release = input(\"개봉일:\")\n",
    "    tic = int(input(\"예매 관객수:\"))\n",
    "    am = int(input(\"누적 관객수:\"))\n",
    "    submenu()\n",
    "    \n",
    "def output():\n",
    "    print(\"영화 제목 : \", name)\n",
    "    print(\"개봉일 : \", release)\n",
    "    print(\"예매 관객수 : \", tic)\n",
    "    print(\"누적 관객수 : \", am)\n",
    "    print(\"출력되었습니다.\")\n",
    "    submenu()"
   ]
  },
  {
   "cell_type": "code",
   "execution_count": null,
   "id": "525acacd",
   "metadata": {},
   "outputs": [
    {
     "name": "stdout",
     "output_type": "stream",
     "text": [
      "- 영화정보관리\n",
      "- 시작메뉴\n",
      "- 1. 영화 정보 입력\n",
      "- 2. 종료\n",
      "작업할 번호를 입력하십시오 : 1\n",
      "- 1. 등록\n",
      "- 2. 등록된 영화정보 출력\n",
      "- 3. 뒤로가기\n",
      "작업할 번호를 입력하십시오 : 1\n",
      "영화 제목:산\n",
      "개봉일:2021.1.25\n",
      "예매 관객수:523\n",
      "누적 관객수:1544\n",
      "- 1. 등록\n",
      "- 2. 등록된 영화정보 출력\n",
      "- 3. 뒤로가기\n",
      "작업할 번호를 입력하십시오 : 2\n",
      "영화 제목 :  []\n",
      "개봉일 :  []\n",
      "예매 관객수 :  []\n",
      "누적 관객수 :  []\n",
      "출력되었습니다.\n",
      "- 1. 등록\n",
      "- 2. 등록된 영화정보 출력\n",
      "- 3. 뒤로가기\n"
     ]
    }
   ],
   "source": [
    "startmenu()"
   ]
  },
  {
   "cell_type": "code",
   "execution_count": null,
   "id": "6b0a0c78",
   "metadata": {},
   "outputs": [],
   "source": []
  }
 ],
 "metadata": {
  "kernelspec": {
   "display_name": "Python 3",
   "language": "python",
   "name": "python3"
  },
  "language_info": {
   "codemirror_mode": {
    "name": "ipython",
    "version": 3
   },
   "file_extension": ".py",
   "mimetype": "text/x-python",
   "name": "python",
   "nbconvert_exporter": "python",
   "pygments_lexer": "ipython3",
   "version": "3.8.8"
  }
 },
 "nbformat": 4,
 "nbformat_minor": 5
}
